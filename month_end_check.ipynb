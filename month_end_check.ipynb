{
 "cells": [
  {
   "cell_type": "code",
   "execution_count": 24,
   "id": "d5b46ff8",
   "metadata": {},
   "outputs": [],
   "source": [
    "import pandas as pd\n",
    "import numpy as np\n",
    "import datetime \n",
    "import tensorflow\n",
    "from bs4 import BeautifulSoup\n",
    "from pandas.tseries.offsets import BMonthEnd\n",
    "from datetime import date\n",
    "from datetime import timedelta\n",
    "from pandas.tseries.offsets import BDay"
   ]
  },
  {
   "cell_type": "code",
   "execution_count": 11,
   "id": "0672e6b0",
   "metadata": {},
   "outputs": [
    {
     "name": "stdout",
     "output_type": "stream",
     "text": [
      "1. mth_end() == This will return the last business day of the month\n",
      "   func inputs == 0\n",
      "2. end_logic(me) == This will return the last business day of the month | func inputs == 1 | takes the mth_end func\n",
      "     Logic | True == Run date is the last business day of the month | False == Not month end \n",
      "3. one_end() == This will return the last business day of the month\n",
      "   func inputs == 0\n",
      "     Logic | True == Run date is the last business day of the month | False == Not month end \n",
      "4. prior_mthend()== Returns the prior last business day of the month.\n"
     ]
    }
   ],
   "source": [
    "def help():\n",
    "#    h = \"1. mth_end() == This will return the last business day of the month\" +'\\n'+ \"   func inputs == 0\" + \"\\n\" +\"2. end_logic(me) == This will return the last business day of the month | func inputs == 1 | takes the mth_end func\"+'\\n'+ \"     Logic | True == Run date is the last business day of the month | False == Not month end \" +\"\\n\"+ \"3. one_end() == This will return the last business day of the month\" +'\\n'+ \"   func inputs == 0\" + \"\\n\"+ \"     Logic | True == Run date is the last business day of the month | False == Not month end \"+ \"\\n\" + '4. prior_mthend()== Returns the prior last business day of the month.'\n",
    "    return h\n",
    "\n",
    "\n",
    "h = help()    \n",
    "print(h)"
   ]
  },
  {
   "cell_type": "code",
   "execution_count": 40,
   "id": "5affa8f0",
   "metadata": {},
   "outputs": [
    {
     "name": "stdout",
     "output_type": "stream",
     "text": [
      "2022-12-24\n"
     ]
    }
   ],
   "source": [
    "####this corrects the date for running the next step #####\n",
    "\n",
    "def fix_time():\n",
    "    td1 = date.today()\n",
    "    wknum = td1.today().weekday()\n",
    "    d_sat = td1 - timedelta(days=1)  \n",
    "    d_sun = td1 - timedelta(days=2)  \n",
    "    \n",
    "    if wknum == 6:\n",
    "        return d_sat\n",
    "    elif wknum == 7:\n",
    "        return d_sun\n",
    "    else:\n",
    "        return tday\n",
    "\n",
    "        \n",
    "test_123 = fix_time()\n",
    "print(test_123)"
   ]
  },
  {
   "cell_type": "code",
   "execution_count": 43,
   "id": "b709b3ce",
   "metadata": {},
   "outputs": [
    {
     "name": "stdout",
     "output_type": "stream",
     "text": [
      "2022-12-30 00:00:00\n"
     ]
    }
   ],
   "source": [
    "#### This function is getting the final business day of the month. ####\n",
    "\n",
    "def mth_end(t):\n",
    "    \n",
    "    #### dt & dope are setting the current date and last business date for the logic test. #####  \n",
    "    #### if the current date month == the business date month than we know the calander hasn't flipped so we need to roll month end fwd. ####\n",
    "\n",
    "    dt = t\n",
    "    dope = date.today()\n",
    "    \n",
    "    dt_1 = dt.month\n",
    "    dt_2 = dope.month\n",
    "    \n",
    "    offset = BMonthEnd()\n",
    "    \n",
    "    fwd = offset.rollforward(dt)\n",
    "    bkw = offset.rollback(dt)\n",
    "    \n",
    "    if dt_1 == dt_2:\n",
    "        return fwd\n",
    "    else:\n",
    "        return bkw\n",
    "\n",
    "carmax = mth_end(fix_time())\n",
    "print(carmax)"
   ]
  },
  {
   "cell_type": "code",
   "execution_count": 44,
   "id": "27e7771b",
   "metadata": {},
   "outputs": [
    {
     "name": "stdout",
     "output_type": "stream",
     "text": [
      "2022-12-25 19:36:30.527933\n",
      "2022-12-25\n"
     ]
    },
    {
     "data": {
      "text/plain": [
       "False"
      ]
     },
     "execution_count": 44,
     "metadata": {},
     "output_type": "execute_result"
    }
   ],
   "source": [
    "#### me == mth_end output ####\n",
    "#### True == Run date is the last business day of the month. | False == Not month end ####\n",
    "def end_logic(me):\n",
    "    e = me\n",
    "    dup = date.today()\n",
    "    \n",
    "    ## This gets the last business day of the week ##\n",
    "    t = datetime.datetime.today()\n",
    "    print(t)\n",
    "    t = dup\n",
    "    print(t)\n",
    "    if e == t:\n",
    "        return True\n",
    "    else:\n",
    "        return False\n",
    "\n",
    "end_logic(mth_end) "
   ]
  },
  {
   "cell_type": "code",
   "execution_count": 8,
   "id": "23ddb750",
   "metadata": {},
   "outputs": [
    {
     "name": "stdout",
     "output_type": "stream",
     "text": [
      "False\n"
     ]
    }
   ],
   "source": [
    "#### combining both ####\n",
    "#### True == Run date is the last business day of the month. | False == Not month end ####\n",
    "\n",
    "def one_end():\n",
    "    day=date.today()\n",
    "    os = BMonthEnd()\n",
    "    end_mth = os.rollforward(day)\n",
    "    \n",
    "    bday = datetime.datetime.today()\n",
    "    bday = (bday - BDay())\n",
    "    \n",
    "    \n",
    "    if end_mth == bday:\n",
    "        return True\n",
    "    else:\n",
    "        return False\n",
    "    \n",
    "day = one_end()\n",
    "    \n",
    "print(day)"
   ]
  },
  {
   "cell_type": "code",
   "execution_count": 9,
   "id": "dbe67a33",
   "metadata": {},
   "outputs": [
    {
     "name": "stdout",
     "output_type": "stream",
     "text": [
      "2022-11-30 00:00:00\n"
     ]
    }
   ],
   "source": [
    "#### This function is getting the final business day of the month. ####\n",
    "\n",
    "def prior_mthend():\n",
    "    \n",
    "    d = date.today()\n",
    "    offset = BMonthEnd()\n",
    "    \n",
    "    prior_end = offset.rollback(d)\n",
    "    \n",
    "    return prior_end\n",
    "\n",
    "d = prior_mthend()\n",
    "print(d)"
   ]
  },
  {
   "cell_type": "code",
   "execution_count": 10,
   "id": "e6880a34",
   "metadata": {},
   "outputs": [
    {
     "ename": "SyntaxError",
     "evalue": "invalid syntax (<ipython-input-10-ba5861a58615>, line 1)",
     "output_type": "error",
     "traceback": [
      "\u001b[1;36m  File \u001b[1;32m\"<ipython-input-10-ba5861a58615>\"\u001b[1;36m, line \u001b[1;32m1\u001b[0m\n\u001b[1;33m    DateTime dateForButton = DateTime.Now.AddDays(-1)\u001b[0m\n\u001b[1;37m             ^\u001b[0m\n\u001b[1;31mSyntaxError\u001b[0m\u001b[1;31m:\u001b[0m invalid syntax\n"
     ]
    }
   ],
   "source": [
    "DateTime dateForButton = DateTime.Now.AddDays(-1)"
   ]
  },
  {
   "cell_type": "code",
   "execution_count": null,
   "id": "c96e3cb3",
   "metadata": {},
   "outputs": [],
   "source": []
  }
 ],
 "metadata": {
  "kernelspec": {
   "display_name": "Python 3",
   "language": "python",
   "name": "python3"
  },
  "language_info": {
   "codemirror_mode": {
    "name": "ipython",
    "version": 3
   },
   "file_extension": ".py",
   "mimetype": "text/x-python",
   "name": "python",
   "nbconvert_exporter": "python",
   "pygments_lexer": "ipython3",
   "version": "3.8.8"
  }
 },
 "nbformat": 4,
 "nbformat_minor": 5
}
