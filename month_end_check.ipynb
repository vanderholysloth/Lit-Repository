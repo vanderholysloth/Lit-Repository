{
 "cells": [
  {
   "cell_type": "code",
   "execution_count": 5,
   "id": "d5b46ff8",
   "metadata": {},
   "outputs": [],
   "source": [
    "import pandas as pd\n",
    "import numpy as np\n",
    "import datetime\n",
    "import tensorflow\n",
    "from bs4 import BeautifulSoup\n",
    "from pandas.tseries.offsets import BMonthEnd\n",
    "from datetime import date\n",
    "from pandas.tseries.offsets import BDay"
   ]
  },
  {
   "cell_type": "code",
   "execution_count": 3,
   "id": "0672e6b0",
   "metadata": {},
   "outputs": [
    {
     "name": "stdout",
     "output_type": "stream",
     "text": [
      "1. mth_end() == This will return the last business day of the month\n",
      "   func inputs == 0\n",
      "2. end_logic(me) == This will return the last business day of the month | func inputs == 1 | takes the mth_end func\n",
      "     Logic | True == Run date is the last business day of the month | False == Not month end \n",
      "3. one_end() == This will return the last business day of the month\n",
      "   func inputs == 0\n",
      "     Logic | True == Run date is the last business day of the month | False == Not month end \n",
      "4. prior_mthend()== Returns the prior last business day of the month.\n"
     ]
    }
   ],
   "source": [
    "def help():\n",
    "    h = \"1. mth_end() == This will return the last business day of the month\" +'\\n'+ \"   func inputs == 0\" + \"\\n\" +\"2. end_logic(me) == This will return the last business day of the month | func inputs == 1 | takes the mth_end func\"+'\\n'+ \"     Logic | True == Run date is the last business day of the month | False == Not month end \" +\"\\n\"+ \"3. one_end() == This will return the last business day of the month\" +'\\n'+ \"   func inputs == 0\" + \"\\n\"+ \"     Logic | True == Run date is the last business day of the month | False == Not month end \"+ \"\\n\" + '4. prior_mthend()== Returns the prior last business day of the month.'\n",
    "    return h\n",
    "\n",
    "\n",
    "h = help()    \n",
    "print(h)"
   ]
  },
  {
   "cell_type": "code",
   "execution_count": 40,
   "id": "42fad3c8",
   "metadata": {},
   "outputs": [
    {
     "name": "stdout",
     "output_type": "stream",
     "text": [
      "2022-12-30 00:00:00\n"
     ]
    }
   ],
   "source": [
    "#### This function is getting the final business day of the month. ####\n",
    "\n",
    "def mth_end():\n",
    "    \n",
    "    d = date.today()\n",
    "    offset = BMonthEnd()\n",
    "    \n",
    "    end_mth = offset.rollforward(d)\n",
    "    \n",
    "    return end_mth\n",
    "\n",
    "d = mth_end()\n",
    "print(d)"
   ]
  },
  {
   "cell_type": "code",
   "execution_count": 41,
   "id": "27e7771b",
   "metadata": {},
   "outputs": [
    {
     "data": {
      "text/plain": [
       "False"
      ]
     },
     "execution_count": 41,
     "metadata": {},
     "output_type": "execute_result"
    }
   ],
   "source": [
    "#### me == mth_end output ####\n",
    "#### True == Run date is the last business day of the month. | False == Not month end ####\n",
    "def end_logic(me):\n",
    "    e = mth_end()\n",
    "    \n",
    "    ## This gets the last business day of the week ##\n",
    "    t = datetime.datetime.today()\n",
    "    t = (t - BDay())\n",
    "    \n",
    "    if e == t:\n",
    "        return True\n",
    "    else:\n",
    "        return False\n",
    "\n",
    "end_logic(mth_end) "
   ]
  },
  {
   "cell_type": "code",
   "execution_count": 42,
   "id": "23ddb750",
   "metadata": {},
   "outputs": [
    {
     "name": "stdout",
     "output_type": "stream",
     "text": [
      "False\n"
     ]
    }
   ],
   "source": [
    "#### combining both ####\n",
    "#### True == Run date is the last business day of the month. | False == Not month end ####\n",
    "\n",
    "def one_end():\n",
    "    day=date.today()\n",
    "    os = BMonthEnd()\n",
    "    end_mth = os.rollforward(day)\n",
    "    \n",
    "    bday = datetime.datetime.today()\n",
    "    bday = (bday - BDay())\n",
    "    \n",
    "    \n",
    "    if end_mth == bday:\n",
    "        return True\n",
    "    else:\n",
    "        return False\n",
    "    \n",
    "day = one_end()\n",
    "    \n",
    "print(day)"
   ]
  },
  {
   "cell_type": "code",
   "execution_count": 12,
   "id": "090a3741",
   "metadata": {},
   "outputs": [
    {
     "name": "stdout",
     "output_type": "stream",
     "text": [
      "2022-11-30 00:00:00\n"
     ]
    }
   ],
   "source": [
    "#### This function is getting the final business day of the month. ####\n",
    "\n",
    "def prior_mthend():\n",
    "    \n",
    "    d = date.today()\n",
    "    offset = BMonthEnd()\n",
    "    \n",
    "    prior_end = offset.rollback(d)\n",
    "    \n",
    "    return prior_end\n",
    "\n",
    "d = prior_mthend()\n",
    "print(d)"
   ]
  },
  {
   "cell_type": "code",
   "execution_count": null,
   "id": "f6222aa3",
   "metadata": {},
   "outputs": [],
   "source": []
  }
 ],
 "metadata": {
  "kernelspec": {
   "display_name": "Python 3",
   "language": "python",
   "name": "python3"
  },
  "language_info": {
   "codemirror_mode": {
    "name": "ipython",
    "version": 3
   },
   "file_extension": ".py",
   "mimetype": "text/x-python",
   "name": "python",
   "nbconvert_exporter": "python",
   "pygments_lexer": "ipython3",
   "version": "3.8.8"
  }
 },
 "nbformat": 4,
 "nbformat_minor": 5
}
